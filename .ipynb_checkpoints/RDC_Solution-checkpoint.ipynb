{
 "cells": [
  {
   "cell_type": "markdown",
   "metadata": {},
   "source": [
    "# Classification Of Fundus Images\n",
    "## The Dataset Contains over 3200 Images related 46 fundus diseases distributed into three sets train,evaluation, test.\n",
    "### Computer vision has plethora of applications in the area medical imaging aim of this project is to identify and classify the fundus disease from retina imaging.According to the WHO, World report on vision 2019, the number of visually impaired people worldwide is estimated to be 2.2 billion, of whom at least 1 billion have a vision impairment that could have been prevented or is yet to be addressed. The world faces considerable challenges in terms of eye care, including inequalities in the coverage and quality of prevention, treatment, and rehabilitation services. Early detection and diagnosis of ocular pathologies would enable forestall of visual impairment.To give insights of models decision we require apply XAI techniques which could be helpful for doctors whether trust the decision of model or not."
   ]
  },
  {
   "cell_type": "code",
   "execution_count": 1,
   "metadata": {},
   "outputs": [
    {
     "name": "stdout",
     "output_type": "stream",
     "text": [
      "CPU times: user 1.65 s, sys: 385 ms, total: 2.04 s\n",
      "Wall time: 1.71 s\n"
     ]
    }
   ],
   "source": [
    "%%time\n",
    "import modin.pandas as pd\n",
    "import matplotlib.pyplot as plt\n",
    "import numpy as np\n",
    "import os\n",
    "import cv2\n",
    "from skimage import io, filters\n",
    "from skimage.color import rgb2gray\n",
    "os.environ[\"MODIN_ENGINE\"] = \"dask\"\n",
    "from distributed import Client\n",
    "client = Client()"
   ]
  },
  {
   "cell_type": "code",
   "execution_count": null,
   "metadata": {},
   "outputs": [],
   "source": [
    "basepath = \"input\"\n",
    "trainFolder = f\"{basepath}/Training_Set\"\n",
    "evaluationFolder = f\"{basepath}/Evaluation_Set\"\n",
    "testFolder = f\"{basepath}/Test_Set\"\n",
    "trainData = pd.read_csv('input/Training_Set/RFMiD_Training_Labels.csv')\n",
    "testData = pd.read_csv('input/Test_Set/Test_Set/RFMiD_Testing_Labels.csv')\n",
    "evaulationData = pd.read_csv(\n",
    "    'input/Evaluation_Set/Evaluation_Set/RFMiD_Validation_Labels.csv')\n",
    "img1 = cv2.imread(f'input/Training_Set/Training/{trainData[\"ID\"][100]}.png')\n",
    "img2 = cv2.imread(\n",
    "    f'input/Evaluation_Set/Evaluation_Set/Validation/{trainData[\"ID\"][100]}.png')\n",
    "img3 = cv2.imread(f'input/Test_Set/Test_Set/Test/{testData[\"ID\"][100]}.png')\n",
    "fig = plt.figure(figsize=(20, 10))\n",
    "fig.add_subplot(2,2,1)\n",
    "plt.imshow(img1)\n",
    "plt.title(\"Image from Train Set\")\n",
    "fig.add_subplot(2, 2,2)\n",
    "plt.imshow(img2)\n",
    "plt.title(\"Image from Evaluation Set\")\n",
    "fig.add_subplot(2, 2,3)\n",
    "plt.imshow(img3)\n",
    "plt.title(\"Image from Test Set\")"
   ]
  },
  {
   "cell_type": "markdown",
   "metadata": {
    "jp-MarkdownHeadingCollapsed": true,
    "tags": []
   },
   "source": [
    "## Check The Size Of Original Images"
   ]
  },
  {
   "cell_type": "code",
   "execution_count": null,
   "metadata": {},
   "outputs": [],
   "source": [
    "height, width = img2.shape[:2]\n",
    "print(height)\n",
    "print(width)"
   ]
  },
  {
   "cell_type": "markdown",
   "metadata": {
    "jp-MarkdownHeadingCollapsed": true,
    "tags": []
   },
   "source": [
    "## Resizing The Image to 256 * 256"
   ]
  },
  {
   "cell_type": "code",
   "execution_count": null,
   "metadata": {},
   "outputs": [],
   "source": [
    "img1 = cv2.resize(img1,(256,256))\n",
    "img2 = cv2.resize(img2, (256, 256))\n",
    "img3 = cv2.resize(img3, (256, 256))\n",
    "height, width = img1.shape[:2]\n",
    "print(height)\n",
    "print(width)\n"
   ]
  },
  {
   "cell_type": "markdown",
   "metadata": {
    "jp-MarkdownHeadingCollapsed": true,
    "tags": []
   },
   "source": [
    "## Plotting The Resized Images"
   ]
  },
  {
   "cell_type": "code",
   "execution_count": null,
   "metadata": {},
   "outputs": [],
   "source": [
    "fig = plt.figure(figsize=(10, 7))\n",
    "fig.add_subplot(2, 2, 1)\n",
    "plt.imshow(img1)\n",
    "plt.title(\"Image from Train Set\")\n",
    "fig.add_subplot(2, 2, 2)\n",
    "plt.imshow(img2)\n",
    "plt.title(\"Image from Evaluation Set\")\n",
    "fig.add_subplot(2, 2, 3)\n",
    "plt.imshow(img3)\n",
    "plt.title(\"Image from Test Set\")"
   ]
  },
  {
   "cell_type": "markdown",
   "metadata": {
    "jp-MarkdownHeadingCollapsed": true,
    "tags": []
   },
   "source": [
    "## Checking How The Training Data Is Distributed Between Different Diseases."
   ]
  },
  {
   "cell_type": "code",
   "execution_count": null,
   "metadata": {},
   "outputs": [],
   "source": [
    "z = trainData[\"Disease_Risk\"].value_counts()\n",
    "trainStats = pd.DataFrame({\"name\":[z.name],\"0\":[z[0]],\"1\":[z[1]]})\n",
    "for x in trainData.columns[2:]:\n",
    "    val = trainData[x].value_counts()\n",
    "    if(val.size==2):\n",
    "        temp = pd.DataFrame({\"name\": [val.name], \"0\": [val[0]], \"1\": [val[1]]})\n",
    "        trainStats = trainStats.append(temp,ignore_index=True)\n",
    "    if(val.size==1):\n",
    "        if(trainData[x][0]==0):\n",
    "            temp = pd.DataFrame(\n",
    "                {\"name\": [val.name], \"0\": [val[0]], \"1\": [0]})\n",
    "            trainStats = trainStats.append(temp,ignore_index=True)\n",
    "        else:\n",
    "            temp = pd.DataFrame(\n",
    "                {\"name\": [val.name], \"0\": [0], \"1\": [val[1]]})\n",
    "            trainStats = trainStats.append(temp,ignore_index=True)\n",
    "trainStats"
   ]
  },
  {
   "cell_type": "code",
   "execution_count": null,
   "metadata": {},
   "outputs": [],
   "source": [
    "z = evaulationData[\"MCA\"].value_counts(sort=True)\n",
    "z[0]"
   ]
  },
  {
   "cell_type": "markdown",
   "metadata": {
    "jp-MarkdownHeadingCollapsed": true,
    "tags": []
   },
   "source": [
    "## Checking How The Evaulation Data Is Distributed Between Different Diseases."
   ]
  },
  {
   "cell_type": "code",
   "execution_count": null,
   "metadata": {},
   "outputs": [],
   "source": [
    "z = evaulationData[\"Disease_Risk\"].value_counts()\n",
    "evalStats = pd.DataFrame({\"name\": [z.name], \"0\": [z[0]], \"1\": [z[1]]})\n",
    "for x in evaulationData.columns[2:]:\n",
    "    val = evaulationData[x].value_counts()\n",
    "    if(val.size == 2):\n",
    "        temp = pd.DataFrame({\"name\": [val.name], \"0\": [val[0]], \"1\": [val[1]]})\n",
    "        evalStats = evalStats.append(temp, ignore_index=True)\n",
    "    if(val.size == 1):\n",
    "        if(evaulationData[x][0] == 0):\n",
    "            temp = pd.DataFrame(\n",
    "                {\"name\": [val.name], \"0\": [val[0]], \"1\": [0]})\n",
    "            evalStats = evalStats.append(temp, ignore_index=True)\n",
    "        else:\n",
    "            temp = pd.DataFrame(\n",
    "            {\"name\": [val.name], \"0\": [0], \"1\": [val[1]]})\n",
    "            evalStats = evalStats.append(temp, ignore_index=True)\n",
    "evalStats"
   ]
  },
  {
   "cell_type": "markdown",
   "metadata": {
    "jp-MarkdownHeadingCollapsed": true,
    "tags": []
   },
   "source": [
    "## Checking How The Test Data Is Distributed Between Different Diseases."
   ]
  },
  {
   "cell_type": "code",
   "execution_count": null,
   "metadata": {},
   "outputs": [],
   "source": [
    "z = testData[\"Disease_Risk\"].value_counts()\n",
    "testStats = pd.DataFrame({\"name\": [z.name], \"0\": [z[0]], \"1\": [z[1]]})\n",
    "for x in testData.columns[2:]:\n",
    "    val = testData[x].value_counts()\n",
    "    if(val.size == 2):\n",
    "        temp = pd.DataFrame({\"name\": [val.name], \"0\": [val[0]], \"1\": [val[1]]})\n",
    "        testStats = testStats.append(temp, ignore_index=True)\n",
    "    if(val.size == 1):\n",
    "        if(testData[x][0] == 0):\n",
    "            temp = pd.DataFrame(\n",
    "                {\"name\": [val.name], \"0\": [val[0]], \"1\": [0]})\n",
    "            testStats = testStats.append(temp, ignore_index=True)\n",
    "        else:\n",
    "            temp = pd.DataFrame(\n",
    "                {\"name\": [val.name], \"0\": [0], \"1\": [val[1]]})\n",
    "            testStats = testStats.append(temp, ignore_index=True)\n",
    "testStats"
   ]
  },
  {
   "cell_type": "markdown",
   "metadata": {
    "jp-MarkdownHeadingCollapsed": true,
    "tags": []
   },
   "source": [
    "## Conversion Of Color Image T0 GrayScale Image For Purpose Easy Computaion Benefits."
   ]
  },
  {
   "cell_type": "code",
   "execution_count": null,
   "metadata": {},
   "outputs": [],
   "source": [
    "\n",
    "grayscale1 = rgb2gray(img1)\n",
    "grayscale2 = rgb2gray(img2)\n",
    "grayscale3 = rgb2gray(img3)\n",
    "fig = plt.figure(figsize=(10, 7))\n",
    "fig.add_subplot(2, 2, 1)\n",
    "plt.imshow(grayscale1, cmap=plt.cm.gray)\n",
    "plt.title(\"Image from Train Set\")\n",
    "fig.add_subplot(2, 2, 2)\n",
    "plt.imshow(grayscale2, cmap=plt.cm.gray)\n",
    "plt.title(\"Image from Evaluation Set\")\n",
    "fig.add_subplot(2, 2, 3)\n",
    "plt.imshow(grayscale3, cmap=plt.cm.gray)\n",
    "plt.title(\"Image from Test Set\")"
   ]
  },
  {
   "cell_type": "markdown",
   "metadata": {
    "jp-MarkdownHeadingCollapsed": true,
    "tags": []
   },
   "source": [
    "## Checking The MAX And MIN Values Of Gray Scale Image"
   ]
  },
  {
   "cell_type": "code",
   "execution_count": null,
   "metadata": {},
   "outputs": [],
   "source": [
    "min = np.amin(grayscale1)\n",
    "max = np.amax(grayscale1)\n",
    "print(min)\n",
    "print(max)"
   ]
  },
  {
   "cell_type": "markdown",
   "metadata": {
    "jp-MarkdownHeadingCollapsed": true,
    "tags": []
   },
   "source": [
    "## Visualizing The RGB Image in Different Channels"
   ]
  },
  {
   "cell_type": "code",
   "execution_count": null,
   "metadata": {},
   "outputs": [],
   "source": [
    "r = img1[:,:,0]\n",
    "g = img1[...,1]\n",
    "b = img1[...,2]\n",
    "\n",
    "fig = plt.figure(figsize=(10,7))\n",
    "fig.add_subplot(2, 2, 1)\n",
    "plt.imshow(r, cmap=plt.cm.gray)\n",
    "plt.title(\"Red Channel\")\n",
    "fig.add_subplot(2, 2, 2)\n",
    "plt.imshow(g, cmap=plt.cm.gray)\n",
    "plt.title(\"Green Channel\")\n",
    "fig.add_subplot(2, 2, 3)\n",
    "plt.imshow(b, cmap=plt.cm.gray)\n",
    "plt.title(\"Blue channel\")\n",
    "fig.add_subplot(2, 2, 4)\n",
    "plt.imshow(img1, cmap=plt.cm.gray)\n",
    "plt.title(\"All channels\")\n"
   ]
  },
  {
   "cell_type": "code",
   "execution_count": null,
   "metadata": {},
   "outputs": [],
   "source": [
    "r = img2[:, :, 0]\n",
    "g = img2[..., 1]\n",
    "b = img2[..., 2]\n",
    "\n",
    "fig = plt.figure(figsize=(10, 7))\n",
    "fig.add_subplot(2, 2, 1)\n",
    "plt.imshow(r, cmap=plt.cm.gray)\n",
    "plt.title(\"Red Channel\")\n",
    "fig.add_subplot(2, 2, 2)\n",
    "plt.imshow(g, cmap=plt.cm.gray)\n",
    "plt.title(\"Green Channel\")\n",
    "fig.add_subplot(2, 2, 3)\n",
    "plt.imshow(b, cmap=plt.cm.gray)\n",
    "plt.title(\"Blue channel\")\n",
    "fig.add_subplot(2, 2, 4)\n",
    "plt.imshow(img2, cmap=plt.cm.gray)\n",
    "plt.title(\"All channels\")"
   ]
  },
  {
   "cell_type": "code",
   "execution_count": null,
   "metadata": {},
   "outputs": [],
   "source": [
    "r = img3[:, :, 0]\n",
    "g = img3[..., 1]\n",
    "b = img3[..., 2]\n",
    "\n",
    "fig = plt.figure(figsize=(10, 7))\n",
    "fig.add_subplot(2, 2, 1)\n",
    "plt.imshow(r)\n",
    "plt.title(\"Red Channel\")\n",
    "fig.add_subplot(2, 2, 2)\n",
    "plt.imshow(g)\n",
    "plt.title(\"Green Channel\")\n",
    "fig.add_subplot(2, 2, 3)\n",
    "plt.imshow(b)\n",
    "plt.title(\"Blue channel\")\n",
    "fig.add_subplot(2, 2, 4)\n",
    "plt.imshow(img3)\n",
    "plt.title(\"All channels\")"
   ]
  },
  {
   "cell_type": "markdown",
   "metadata": {},
   "source": [
    "## Test Bed"
   ]
  },
  {
   "cell_type": "code",
   "execution_count": 2,
   "metadata": {},
   "outputs": [
    {
     "name": "stdout",
     "output_type": "stream",
     "text": [
      "CPU times: user 289 ms, sys: 44.6 ms, total: 334 ms\n",
      "Wall time: 690 ms\n"
     ]
    }
   ],
   "source": [
    "%%time\n",
    "dftrain = pd.read_csv('input/Training_Set/RFMiD_Training_Labels.csv')\n",
    "dftest = pd.read_csv('input/Test_Set/Test_Set/RFMiD_Testing_Labels.csv')\n",
    "dfeval = pd.read_csv(\n",
    "    'input/Evaluation_Set/Evaluation_Set/RFMiD_Validation_Labels.csv')\n"
   ]
  },
  {
   "cell_type": "code",
   "execution_count": 18,
   "metadata": {},
   "outputs": [
    {
     "name": "stdout",
     "output_type": "stream",
     "text": [
      "CPU times: user 15 µs, sys: 1 µs, total: 16 µs\n",
      "Wall time: 19.3 µs\n"
     ]
    }
   ],
   "source": [
    "%%time\n",
    "def preprocessImage(path,id):\n",
    "    img = cv2.imread(f'{path}/{id}.png')\n",
    "    if(img is None):\n",
    "        return np.zeros((256,256))\n",
    "    img = cv2.resize(img, (256, 256))\n",
    "    R, G, B = cv2.split(img)\n",
    "    output1_R = cv2.equalizeHist(R)\n",
    "    output1_G = cv2.equalizeHist(G)\n",
    "    output1_B = cv2.equalizeHist(B)\n",
    "    img = cv2.merge((output1_R, output1_G, output1_B))\n",
    "    img = rgb2gray(img)\n",
    "    return img\n"
   ]
  },
  {
   "cell_type": "code",
   "execution_count": 24,
   "metadata": {},
   "outputs": [
    {
     "data": {
      "text/plain": [
       "(256, 256)"
      ]
     },
     "execution_count": 24,
     "metadata": {},
     "output_type": "execute_result"
    }
   ],
   "source": [
    "preprocessImage('input/Evaluation_Set/Evaluation_Set/Validation/',1000).shape"
   ]
  },
  {
   "cell_type": "code",
   "execution_count": 19,
   "metadata": {},
   "outputs": [
    {
     "name": "stdout",
     "output_type": "stream",
     "text": [
      "CPU times: user 78.5 ms, sys: 5.41 ms, total: 83.9 ms\n",
      "Wall time: 85.5 ms\n"
     ]
    }
   ],
   "source": [
    "%%time\n",
    "dftrain['Image'] = dftrain['ID'].apply(\n",
    "    lambda id: preprocessImage('input/Training_Set/Training/',id))\n",
    "dftest['Image'] = dftest['ID'].apply(\n",
    "    lambda id: preprocessImage('input/Test_Set/Test_Set/', id))\n",
    "dfeval['Image'] = dfeval['ID'].apply(\n",
    "    lambda id: preprocessImage('input/Evaluation_Set/Evaluation_Set/Validation/',id))\n"
   ]
  },
  {
   "cell_type": "code",
   "execution_count": 25,
   "metadata": {},
   "outputs": [
    {
     "data": {
      "text/plain": [
       "(256, 256)"
      ]
     },
     "execution_count": 25,
     "metadata": {},
     "output_type": "execute_result"
    }
   ],
   "source": [
    "dftest['Image'][0].shape"
   ]
  },
  {
   "cell_type": "code",
   "execution_count": 42,
   "metadata": {},
   "outputs": [
    {
     "name": "stderr",
     "output_type": "stream",
     "text": [
      "UserWarning: `DataFrame._repr_html_` for empty DataFrame defaulting to pandas implementation.\n"
     ]
    },
    {
     "data": {
      "text/html": [
       "<div>\n",
       "<style scoped>\n",
       "    .dataframe tbody tr th:only-of-type {\n",
       "        vertical-align: middle;\n",
       "    }\n",
       "\n",
       "    .dataframe tbody tr th {\n",
       "        vertical-align: top;\n",
       "    }\n",
       "\n",
       "    .dataframe thead th {\n",
       "        text-align: right;\n",
       "    }\n",
       "</style>\n",
       "<table border=\"1\" class=\"dataframe\">\n",
       "  <thead>\n",
       "    <tr style=\"text-align: right;\">\n",
       "      <th></th>\n",
       "      <th>ID</th>\n",
       "      <th>Disease_Risk</th>\n",
       "      <th>DR</th>\n",
       "      <th>ARMD</th>\n",
       "      <th>MH</th>\n",
       "      <th>DN</th>\n",
       "      <th>MYA</th>\n",
       "      <th>BRVO</th>\n",
       "      <th>TSLN</th>\n",
       "      <th>ERM</th>\n",
       "      <th>...</th>\n",
       "      <th>PTCR</th>\n",
       "      <th>CF</th>\n",
       "      <th>VH</th>\n",
       "      <th>MCA</th>\n",
       "      <th>VS</th>\n",
       "      <th>BRAO</th>\n",
       "      <th>PLQ</th>\n",
       "      <th>HPED</th>\n",
       "      <th>CL</th>\n",
       "      <th>Image</th>\n",
       "    </tr>\n",
       "  </thead>\n",
       "  <tbody>\n",
       "  </tbody>\n",
       "</table>\n",
       "<p>0 rows × 48 columns</p>\n",
       "</div>"
      ],
      "text/plain": [
       "Empty DataFrame\n",
       "Columns: [ID, Disease_Risk, DR, ARMD, MH, DN, MYA, BRVO, TSLN, ERM, LS, MS, CSR, ODC, CRVO, TV, AH, ODP, ODE, ST, AION, PT, RT, RS, CRS, EDN, RPEC, MHL, RP, CWS, CB, ODPM, PRH, MNF, HR, CRAO, TD, CME, PTCR, CF, VH, MCA, VS, BRAO, PLQ, HPED, CL, Image]\n",
       "Index: []\n",
       "\n",
       "[0 rows x 48 columns]"
      ]
     },
     "execution_count": 42,
     "metadata": {},
     "output_type": "execute_result"
    }
   ],
   "source": [
    "I=np.zeros((256,256))\n",
    "gh = pd.DataFrame(dftest)\n",
    "gh['Image'] = gh['Image'].astype(str)\n",
    "I  = np.array2string(I)\n",
    "# type(I)\n",
    "%timeit \n",
    "gh[gh['Image']==I]"
   ]
  },
  {
   "cell_type": "code",
   "execution_count": null,
   "metadata": {},
   "outputs": [],
   "source": [
    "dftrain.size"
   ]
  },
  {
   "cell_type": "code",
   "execution_count": null,
   "metadata": {},
   "outputs": [],
   "source": [
    "dftrain['Prediction'] = dftrain['ID'].apply(\n",
    "    lambda id: np.reshape(dftrain.iloc[id-1, 1:47].values, (46, 1)))\n",
    "dfeval['Prediction'] = dfeval['ID'].apply(\n",
    "    lambda id: np.reshape(dfeval.iloc[id-1, 1:47].values, (46, 1)))\n",
    "dftest['Prediction'] = dftest['ID'].apply(\n",
    "    lambda id: np.reshape(dftest.iloc[id-1, 1:47].values, (46, 1)))\n"
   ]
  },
  {
   "cell_type": "code",
   "execution_count": null,
   "metadata": {},
   "outputs": [],
   "source": []
  },
  {
   "cell_type": "code",
   "execution_count": null,
   "metadata": {},
   "outputs": [],
   "source": [
    "dropcolumns = dfeval.columns[2:47]\n",
    "dropcolumns = dropcolumns.to_list()\n",
    "dfeval = dfeval.drop(dropcolumns, axis=1)\n",
    "dftrain = dftrain.drop(dropcolumns, axis=1)\n",
    "dftest = dftest.drop(dropcolumns, axis=1)\n"
   ]
  },
  {
   "cell_type": "code",
   "execution_count": null,
   "metadata": {},
   "outputs": [],
   "source": [
    "import warnings\n",
    "warnings.filterwarnings('ignore')\n",
    "\n"
   ]
  },
  {
   "cell_type": "code",
   "execution_count": null,
   "metadata": {},
   "outputs": [],
   "source": [
    "z = dfeval['Image'][79]\n",
    "plt.imshow(z,cmap=plt.cm.gray)\n"
   ]
  },
  {
   "cell_type": "code",
   "execution_count": null,
   "metadata": {},
   "outputs": [],
   "source": [
    "# from sklearn.svm import SVC\n",
    "# model = SVC()\n",
    "# model.fit(X, y)"
   ]
  }
 ],
 "metadata": {
  "interpreter": {
   "hash": "dca0ade3e726a953b501b15e8e990130d2b7799f14cfd9f4271676035ebe5511"
  },
  "kernelspec": {
   "display_name": "Python 3 (ipykernel)",
   "language": "python",
   "name": "python3"
  },
  "language_info": {
   "codemirror_mode": {
    "name": "ipython",
    "version": 3
   },
   "file_extension": ".py",
   "mimetype": "text/x-python",
   "name": "python",
   "nbconvert_exporter": "python",
   "pygments_lexer": "ipython3",
   "version": "3.8.8"
  }
 },
 "nbformat": 4,
 "nbformat_minor": 4
}
